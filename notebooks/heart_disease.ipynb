import pandas
import numpy
from sklearn import preprocessing
 
df = pandas.read_csv('../data/adult.csv')
df.head()